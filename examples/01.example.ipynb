{
 "cells": [
  {
   "cell_type": "code",
   "execution_count": null,
   "id": "b10c98b5",
   "metadata": {},
   "outputs": [],
   "source": [
    "import os\n",
    "import numpy as np\n",
    "import librosa\n",
    "import sounddevice as sd\n",
    "import moviepy as mp\n",
    "\n",
    "from slowdowner.audio import *"
   ]
  },
  {
   "cell_type": "code",
   "execution_count": 10,
   "id": "219e2f26",
   "metadata": {},
   "outputs": [],
   "source": [
    "# Parameters\n",
    "input_file = \"./data/Moments_notice_rosenwinkel.mp3\"         # or \"input.wav\" or \"input.mp3\"\n",
    "start_time = 20.0                 # in seconds\n",
    "end_time = 25.0                  # in seconds\n",
    "slowdown_factor = 2.0           # 2x slower"
   ]
  },
  {
   "cell_type": "code",
   "execution_count": 5,
   "id": "f3ac12f3",
   "metadata": {},
   "outputs": [
    {
     "name": "stdout",
     "output_type": "stream",
     "text": [
      "Loading audio from ./data/Moments_notice_rosenwinkel.mp3...\n"
     ]
    }
   ],
   "source": [
    "# Step 1: Load audio trace\n",
    "if input_file.lower().endswith((\".mp4\", \".mov\", \".avi\", \".mkv\")):\n",
    "    audio, sr = extract_audio_from_video(input_file, save_flag=True, output_path=\"./data/Moments_notice_rosenwinkel.mp3\")\n",
    "else:\n",
    "    audio, sr = load_audio(input_file)"
   ]
  },
  {
   "cell_type": "code",
   "execution_count": 6,
   "id": "4b745975",
   "metadata": {},
   "outputs": [],
   "source": [
    "# Step 2: Extract time window\n",
    "audio_segment = extract_time_window(audio, sr, start_time, end_time)"
   ]
  },
  {
   "cell_type": "code",
   "execution_count": 11,
   "id": "0ee6f17f",
   "metadata": {},
   "outputs": [
    {
     "name": "stdout",
     "output_type": "stream",
     "text": [
      "Slowing down audio by a factor of 2.0 (without pitch change)...\n"
     ]
    }
   ],
   "source": [
    "# Step 3: Slow down the segment\n",
    "slowed_segment = slow_down_audio(audio_segment, slowdown_factor)"
   ]
  },
  {
   "cell_type": "code",
   "execution_count": 12,
   "id": "3f76a50e",
   "metadata": {},
   "outputs": [
    {
     "name": "stdout",
     "output_type": "stream",
     "text": [
      "Playing slowed audio in loop. Press Ctrl+C to stop.\n"
     ]
    }
   ],
   "source": [
    "# Step 4: Play the slowed segment in loop\n",
    "play_audio_loop(slowed_segment, sr)"
   ]
  }
 ],
 "metadata": {
  "kernelspec": {
   "display_name": ".venv",
   "language": "python",
   "name": "python3"
  },
  "language_info": {
   "codemirror_mode": {
    "name": "ipython",
    "version": 3
   },
   "file_extension": ".py",
   "mimetype": "text/x-python",
   "name": "python",
   "nbconvert_exporter": "python",
   "pygments_lexer": "ipython3",
   "version": "3.11.9"
  }
 },
 "nbformat": 4,
 "nbformat_minor": 5
}
