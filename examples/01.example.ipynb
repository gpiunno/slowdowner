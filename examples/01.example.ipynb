{
 "cells": [
  {
   "cell_type": "code",
   "execution_count": 2,
   "id": "b10c98b5",
   "metadata": {},
   "outputs": [],
   "source": [
    "import os\n",
    "import numpy as np\n",
    "import librosa\n",
    "import sounddevice as sd\n",
    "import moviepy as mp"
   ]
  },
  {
   "cell_type": "code",
   "execution_count": 9,
   "id": "eff4edf7",
   "metadata": {},
   "outputs": [],
   "source": [
    "def extract_audio_from_video(video_path, save_flag=False, output_path=None):\n",
    "    \"\"\"\n",
    "    Extracts the audio track from a video and returns it as a NumPy array with sample rate.\n",
    "    \"\"\"\n",
    "    print(f\"Extracting audio from {video_path}...\")\n",
    "    temp_audio_path = \"temp_extracted_audio.wav\"\n",
    "    video = mp.VideoFileClip(video_path)\n",
    "    if save_flag:\n",
    "        if output_path is None:\n",
    "            raise ValueError(\"Output path must be provided if save_flag is True.\")\n",
    "        video.audio.write_audiofile(output_path)  # removed verbose/logger\n",
    "        y, sr = librosa.load(output_path, sr=None)\n",
    "    else:\n",
    "        video.audio.write_audiofile(temp_audio_path)  # removed verbose/logger\n",
    "        y, sr = librosa.load(temp_audio_path, sr=None)\n",
    "        os.remove(temp_audio_path)\n",
    "    return y, sr\n",
    "\n",
    "def load_audio(audio_path):\n",
    "    \"\"\"\n",
    "    Loads an audio file (wav, mp3, etc.) and returns it as a NumPy array with sample rate.\n",
    "    \"\"\"\n",
    "    print(f\"Loading audio from {audio_path}...\")\n",
    "    y, sr = librosa.load(audio_path, sr=None)\n",
    "    return y, sr\n",
    "\n",
    "def extract_time_window(audio_array, sr, start_time, end_time):\n",
    "    \"\"\"\n",
    "    Extracts a portion of the audio trace between start_time and end_time (in seconds).\n",
    "    \"\"\"\n",
    "    start_sample = int(start_time * sr)\n",
    "    end_sample = int(end_time * sr)\n",
    "    return audio_array[start_sample:end_sample]\n",
    "\n",
    "def slow_down_audio(audio_segment, slowdown_factor):\n",
    "    \"\"\"\n",
    "    Slows down an audio segment without changing its pitch using librosa.\n",
    "    \"\"\"\n",
    "    print(f\"Slowing down audio by a factor of {slowdown_factor} (without pitch change)...\")\n",
    "    return librosa.effects.time_stretch(audio_segment, rate=1.0 / slowdown_factor)\n",
    "\n",
    "def play_audio_loop(audio_array, sr, nloops:int=1):\n",
    "    \"\"\"\n",
    "    Plays the given audio array in an infinite loop. Press Ctrl+C to stop.\n",
    "    \"\"\"\n",
    "    print(\"Playing slowed audio in loop. Press Ctrl+C to stop.\")\n",
    "    try:\n",
    "        n = 1\n",
    "        while n <= nloops:\n",
    "            sd.play(audio_array, sr)\n",
    "            sd.wait()\n",
    "            n += 1\n",
    "    except KeyboardInterrupt:\n",
    "        print(\"\\nLoop playback stopped.\")"
   ]
  },
  {
   "cell_type": "code",
   "execution_count": 10,
   "id": "219e2f26",
   "metadata": {},
   "outputs": [],
   "source": [
    "# Parameters\n",
    "input_file = \"./data/Moments_notice_rosenwinkel.mp3\"         # or \"input.wav\" or \"input.mp3\"\n",
    "start_time = 20.0                 # in seconds\n",
    "end_time = 25.0                  # in seconds\n",
    "slowdown_factor = 2.0           # 2x slower"
   ]
  },
  {
   "cell_type": "code",
   "execution_count": 5,
   "id": "f3ac12f3",
   "metadata": {},
   "outputs": [
    {
     "name": "stdout",
     "output_type": "stream",
     "text": [
      "Loading audio from ./data/Moments_notice_rosenwinkel.mp3...\n"
     ]
    }
   ],
   "source": [
    "# Step 1: Load audio trace\n",
    "if input_file.lower().endswith((\".mp4\", \".mov\", \".avi\", \".mkv\")):\n",
    "    audio, sr = extract_audio_from_video(input_file, save_flag=True, output_path=\"./data/Moments_notice_rosenwinkel.mp3\")\n",
    "else:\n",
    "    audio, sr = load_audio(input_file)"
   ]
  },
  {
   "cell_type": "code",
   "execution_count": 6,
   "id": "4b745975",
   "metadata": {},
   "outputs": [],
   "source": [
    "# Step 2: Extract time window\n",
    "audio_segment = extract_time_window(audio, sr, start_time, end_time)"
   ]
  },
  {
   "cell_type": "code",
   "execution_count": 11,
   "id": "0ee6f17f",
   "metadata": {},
   "outputs": [
    {
     "name": "stdout",
     "output_type": "stream",
     "text": [
      "Slowing down audio by a factor of 2.0 (without pitch change)...\n"
     ]
    }
   ],
   "source": [
    "# Step 3: Slow down the segment\n",
    "slowed_segment = slow_down_audio(audio_segment, slowdown_factor)"
   ]
  },
  {
   "cell_type": "code",
   "execution_count": 12,
   "id": "3f76a50e",
   "metadata": {},
   "outputs": [
    {
     "name": "stdout",
     "output_type": "stream",
     "text": [
      "Playing slowed audio in loop. Press Ctrl+C to stop.\n"
     ]
    }
   ],
   "source": [
    "# Step 4: Play the slowed segment in loop\n",
    "play_audio_loop(slowed_segment, sr)"
   ]
  }
 ],
 "metadata": {
  "kernelspec": {
   "display_name": ".venv",
   "language": "python",
   "name": "python3"
  },
  "language_info": {
   "codemirror_mode": {
    "name": "ipython",
    "version": 3
   },
   "file_extension": ".py",
   "mimetype": "text/x-python",
   "name": "python",
   "nbconvert_exporter": "python",
   "pygments_lexer": "ipython3",
   "version": "3.11.9"
  }
 },
 "nbformat": 4,
 "nbformat_minor": 5
}
